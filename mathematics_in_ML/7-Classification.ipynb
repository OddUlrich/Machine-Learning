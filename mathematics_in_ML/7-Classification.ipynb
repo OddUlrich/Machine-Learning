{
 "cells": [
  {
   "cell_type": "markdown",
   "metadata": {},
   "source": [
    "**COMP3670 Assignment 7 - Classification**\n",
    "---"
   ]
  },
  {
   "cell_type": "markdown",
   "metadata": {},
   "source": [
    "**Enter Your Student ID:** u6726234\n",
    "\n",
    "**Your Name:** Wyman Wong\n",
    "    \n",
    "**Deadline:** 16:00pm, November 1st, 2019 (can be extended to 23:59pm, November 3rd, 2019)\n",
    "\n",
    "**Submit:** Write your answers in this file, and submit a single Jupyter Notebook file (.ipynb) on Wattle. Rename this file with your student number as 'uXXXXXXX.ipynb'.\n",
    "    \n",
    "**Enter Discussion Partner IDs Below:**\n",
    "- None\n",
    "\n",
    "**Programming Section** (100%)\n",
    "- 1.1 = 5%\n",
    "- 1.2 = 5%\n",
    "- 1.3 = 10%\n",
    "- 1.4 = 15%\n",
    "- 1.5 = 5%\n",
    "- 1.6 = 10%\n",
    "- 2.1 = 50%\n"
   ]
  },
  {
   "cell_type": "markdown",
   "metadata": {},
   "source": [
    "THEORY SECTION (0%)\n",
    "---"
   ]
  },
  {
   "cell_type": "markdown",
   "metadata": {},
   "source": [
    "There are no theory questions."
   ]
  },
  {
   "cell_type": "markdown",
   "metadata": {},
   "source": [
    "---\n",
    "\n",
    "\n",
    "**PROGRAMMING SECTION (100%)**\n",
    "---\n",
    "\n",
    "For all of the following, program the solution yourself. Don't just call a library function that does the whole question for you, or you'll get zero (no, that doesn't mean you can't use any library functions, but it does mean that you have to show you understand how to compute the answer yourself).\n",
    "\n",
    "**All written answers** should be between 50 and 500 words. If you can describe all the necessary information in 50 words, that's better. However, you'll only be graded on whether you describe the necessary ideas.\n",
    "\n",
    "\n",
    "-----------\n",
    "\n",
    "   **TASK 0.1:** You know the drill. Import Numpy and PyPlot. We're also going to generate a dataset.\n",
    "\n",
    "\n",
    "-----------"
   ]
  },
  {
   "cell_type": "code",
   "execution_count": 1,
   "metadata": {},
   "outputs": [
    {
     "name": "stdout",
     "output_type": "stream",
     "text": [
      "[[1. 1. 0. ... 1. 1. 0.]\n",
      " [0. 1. 1. ... 1. 0. 0.]\n",
      " [1. 1. 0. ... 0. 1. 1.]\n",
      " ...\n",
      " [0. 1. 1. ... 0. 0. 0.]\n",
      " [1. 0. 1. ... 0. 1. 1.]\n",
      " [1. 1. 1. ... 1. 0. 0.]]\n",
      "[[0. 1. 0. 0.]\n",
      " [1. 0. 1. 0.]\n",
      " [1. 0. 0. 0.]\n",
      " ...\n",
      " [1. 0. 1. 1.]\n",
      " [0. 1. 0. 1.]\n",
      " [1. 1. 0. 0.]]\n",
      "Done\n"
     ]
    }
   ],
   "source": [
    "import numpy as np\n",
    "import matplotlib.pyplot as plt\n",
    "from mpl_toolkits.mplot3d import Axes3D #This is for 3d scatter plots.\n",
    "import math\n",
    "import random\n",
    "from scipy.stats import multivariate_normal\n",
    "import os\n",
    "from matplotlib.pyplot import imread\n",
    "np.random.seed(13579201)\n",
    "\n",
    "k = 4\n",
    "n = 8\n",
    "m = 5000\n",
    "D = np.zeros((m, n))\n",
    "Y = np.zeros((m, k))\n",
    "for ix in range(0, m):\n",
    "    dpool = random.randint(0, 2**n)\n",
    "    ypool = round(np.sqrt(dpool))\n",
    "    for iy in range(n):\n",
    "        if dpool >= 2**(D.shape[1] - iy - 1):\n",
    "            D[ix, iy] = 1\n",
    "            dpool -= 2**(D.shape[1] - iy - 1)\n",
    "    for iy in range(Y.shape[1]):\n",
    "        if ypool >= 2**(Y.shape[1] - iy - 1):\n",
    "            reading = ((np.random.randn() + 0.3) > 0)\n",
    "            Y[ix, iy - k] = 1 * reading\n",
    "            ypool -= 2**(Y.shape[1] - iy - 1)\n",
    "\n",
    "print(D)\n",
    "print(Y)\n",
    "print('Done')"
   ]
  },
  {
   "cell_type": "markdown",
   "metadata": {},
   "source": [
    "PROGRAMMING EXERCISE 1  \n",
    "-----------\n",
    "\n",
    "Note that for all of the questions that follow, you may re-use any code from your previous assignments.\n",
    "\n",
    "We're going to implement logistic regression with gradient descent in this first exercise.\n",
    "\n",
    "It's much like linear regression, but we apply a sigmoid function to the output, which of course changes the gradient!\n",
    "\n",
    "The point of logistic regression is to predict a label {0, 1} or a probability.\n",
    "\n",
    "We're going to re-use the dataset from assignment 5 for this problem:\n",
    "\n",
    "$D \\in \\mathbb{R}^{m \\times n}$ together with $Y \\in \\mathbb{R}^{m \\times k}$ is our dataset.\n",
    "\n",
    "Our objective is to predict $Y$ given $D$, such that $s(D\\theta) = Y$, where $s()$ is the same logistic or sigmoid function you used in assignment 4.\n",
    "\n",
    "We're going to use logistic regression to predict a binary string!\n",
    "\n",
    "\n",
    "---\n",
    "   **TASK 1.1:** Complete the function $initialise(D, Y) = \\theta$, which detects the dimensions of $D$ and $Y$ and generates $\\theta$ of appropriate dimension, with random values appropriate for regression, such that the dimensions of $D\\theta$ is the same as the dimensions of $Y$.\n",
    "\n",
    "---\n"
   ]
  },
  {
   "cell_type": "code",
   "execution_count": 2,
   "metadata": {},
   "outputs": [
    {
     "name": "stdout",
     "output_type": "stream",
     "text": [
      "[[1.70002750e-01 5.96396786e-01 9.94706165e-01 2.51915656e-01]\n",
      " [3.23609147e-01 4.66197664e-04 8.79563579e-01 2.17754432e-01]\n",
      " [2.10284607e-01 9.25795606e-02 1.29214215e-01 5.37951137e-01]\n",
      " [8.65924046e-01 1.82478510e-01 3.99470062e-01 6.71662567e-02]\n",
      " [2.35689568e-01 2.65827481e-01 2.32733916e-01 5.51602149e-01]\n",
      " [7.34482228e-01 5.38155369e-02 1.90173747e-01 3.68688362e-01]\n",
      " [1.51635625e-02 7.78813993e-01 4.46012509e-01 5.64616539e-01]\n",
      " [6.57002650e-01 7.24105193e-02 1.03377975e-02 2.42410825e-01]]\n"
     ]
    }
   ],
   "source": [
    "def initialise(D, Y):\n",
    "    theta = None\n",
    "    #YOUR CODE HERE\n",
    "\n",
    "    n = D.shape[1]\n",
    "    k = Y.shape[1]\n",
    "    \n",
    "    # Small random values.\n",
    "    theta = np.random.rand(n, k)\n",
    "    \n",
    "    return theta\n",
    "\n",
    "theta = initialise(D, Y)\n",
    "print(theta)"
   ]
  },
  {
   "cell_type": "markdown",
   "metadata": {},
   "source": [
    "\n",
    "---\n",
    "\n",
    "**TASK 1.2:** Complete $s(Z) = sZ$, which accepts a matrix $Z$ and outputs $sZ$, where $sZ$ is just $Z$ with the sigmoid (or \"logistic\") function applied to every element.\n",
    "\n",
    "You must do this without using a loop.\n",
    "\n",
    "**HINT:** \n",
    "- Recall assignment 4, where you applied the sigmoid function in exactly the same manner.\n",
    "- You might want to use np.vectorize(). You'll probably need to define a second function which accepts a single element and applies the sigmoid function to that element (this is how np.vectorize works).\n",
    "\n",
    "---\n"
   ]
  },
  {
   "cell_type": "code",
   "execution_count": 3,
   "metadata": {
    "scrolled": true
   },
   "outputs": [
    {
     "name": "stdout",
     "output_type": "stream",
     "text": [
      "[[1 1 1 1]\n",
      " [1 1 1 1]\n",
      " [1 1 1 1]\n",
      " ...\n",
      " [1 1 1 1]\n",
      " [1 1 1 1]\n",
      " [1 1 1 1]]\n"
     ]
    }
   ],
   "source": [
    "def s(Z):\n",
    "    sZ = None\n",
    "    #YOUR CODE HERE\n",
    "    \n",
    "    vec_sigmoid = np.vectorize(sigmoid)\n",
    "    sZ = vec_sigmoid(Z)\n",
    "\n",
    "    return sZ\n",
    "\n",
    "def sigmoid(z):\n",
    "    s = 1 / (1 + np.exp(-z))\n",
    "    return s\n",
    "\n",
    "print((s(D@theta * 999999999)).astype('int'))"
   ]
  },
  {
   "cell_type": "markdown",
   "metadata": {},
   "source": [
    "Recall assignment 4, where you implemented a neural network where the $X\\theta^{[1]}$ had a sigmoid function applied to its output.\n",
    "\n",
    "Thus the first layer was the function $s(X\\theta^{[1]})$.\n",
    "\n",
    "That first layer was performing logistic regression with mean squared error!\n",
    "\n",
    "Now, for what follows you may choose any convex loss function you wish. For instance, you might:\n",
    "\n",
    "1. Implement the mean squared loss function as you did in assignment 4 exercise 2 (this will only get you half marks).\n",
    "2. Implement the cross-entropy loss (this is the most common loss function for logistic regression, and I recommend you implement this).\n",
    "3. Implement anything else your heart desires, so long as it functions as a convex loss function for logistic regression!\n",
    "\n",
    "Not sure what convex is? Then you must look this up. Convex means the loss function has only one global minimum!\n",
    "\n",
    "Likewise with cross entropy loss; you need to research and understand this on your own. \n",
    "\n",
    "Cross entropy loss when $k = 1$ is computed as follows:\n",
    "\n",
    "$\\mathcal{L}(\\theta) = -\\frac{1}{m}\\sum_{i=0}^m \\left[y_i ln (s(d_i\\theta)) + (1 - y_i) ln (1 - s(d_i\\theta))\\right] + \\frac{\\gamma}{2}\\theta^T\\theta$\n",
    "\n",
    "... where $ln(z)$ is the natural logarithm of a scalar $z$.\n",
    "\n",
    "When $k =1$, $s(d_i\\theta)$ and $y_i$ are scalars. As $k > 1$, you'll need to modify the above loss function to work with vectors.\n",
    "\n",
    "---\n",
    "\n",
    "**TASK 1.3:** Complete the function $\\mathcal{L}(\\theta) = loss(D, \\theta, Y) = l$, where $l$ is a scalar that represents the loss. That means $l$ is the sum of the $k$ losses (because we're simultaneously running $k$ regressions again).\n",
    "\n",
    "You will get 50% for implementing the mean squared loss function you used in assignment 4 exercise 2, or 100% for implementing a different loss function (so long as it works).\n",
    "\n",
    "Bear in mind you will need to compute $\\frac{d \\mathcal{L}(\\theta)}{d \\theta}$ for this loss function in order to complete the next question, so pick something you actually know how to compute the derivative of.\n",
    "\n",
    "You must also include a form of regularisation such as $\\gamma \\theta^T \\theta$, where $\\gamma$ is a scalar chosen by you (I suggest something like 0.0001). When computing regularisation, remember that $k > 1$. 20% of your grade will be deducted for failing to implement a form of regularisation.\n",
    "\n",
    "**HINT:** If implementing cross entropy loss, you'll need to account for taking the log of $0$.\n",
    "\n",
    "---"
   ]
  },
  {
   "cell_type": "code",
   "execution_count": 4,
   "metadata": {},
   "outputs": [
    {
     "name": "stdout",
     "output_type": "stream",
     "text": [
      "4.168505671754815\n"
     ]
    }
   ],
   "source": [
    "def loss(D, theta, Y):\n",
    "    l = None\n",
    "    #YOUR CODE HERE\n",
    "    \n",
    "    m = Y.shape[0]\n",
    "    \n",
    "    # loss: (k, 1)\n",
    "    loss = np.zeros((Y.shape[1]))\n",
    "    \n",
    "    sZ = s(D@theta) # (m, k)\n",
    "\n",
    "    # Y: (m, k)\n",
    "    loss = -np.mean(Y*np.log(sZ)+(1-Y)*(np.log(1-sZ)), axis=0)\n",
    "    \n",
    "    # Regularized items\n",
    "    garma = 1.0e-4\n",
    "    regularized_item = garma * np.sum(theta*theta, axis=0) / 2 # (k, 1)\n",
    "\n",
    "    loss += regularized_item\n",
    "    l = np.sum(loss)\n",
    "    \n",
    "    return l\n",
    "\n",
    "l = loss(D, theta, Y)\n",
    "print(l)"
   ]
  },
  {
   "cell_type": "markdown",
   "metadata": {},
   "source": [
    "---\n",
    "\n",
    "**TASK 1.4:** Implement $gradient\\_update(D, \\theta, Y, \\lambda) = \\theta - \\lambda \\frac{d \\mathcal{L}(\\theta)}{d \\theta} = \\theta_{new}$, which updates $\\theta$ using the gradient of the loss function you implemented above.\n",
    "\n",
    "It must be the gradient of the loss function you implemented, not a different loss function.\n",
    "\n",
    "$\\lambda$ is the learning rate.\n",
    "\n",
    "As above, if it's just the mean squared loss you will only be eligible for 50% of the grade, and 20% of your grade will be deducted for not including a form of regularisation.\n",
    "\n",
    "---"
   ]
  },
  {
   "cell_type": "code",
   "execution_count": 5,
   "metadata": {},
   "outputs": [
    {
     "name": "stdout",
     "output_type": "stream",
     "text": [
      "[[ 1.65237024e-01  5.91982209e-01  9.82227235e-01  2.41239665e-01]\n",
      " [ 3.18289930e-01 -9.92356011e-03  8.69771898e-01  2.07809219e-01]\n",
      " [ 2.02246766e-01  8.51089289e-02  1.20037983e-01  5.27842908e-01]\n",
      " [ 8.56771669e-01  1.74726192e-01  3.87236029e-01  5.78028176e-02]\n",
      " [ 2.27543143e-01  2.57326361e-01  2.20953699e-01  5.39678528e-01]\n",
      " [ 7.25339291e-01  4.63194384e-02  1.78640468e-01  3.57110023e-01]\n",
      " [ 7.41591972e-03  7.69492950e-01  4.34177567e-01  5.52462525e-01]\n",
      " [ 6.47796822e-01  6.42752982e-02 -5.35575940e-04  2.30829471e-01]]\n"
     ]
    }
   ],
   "source": [
    "def gradient_update(D, theta, Y, lam):\n",
    "    theta_new = None\n",
    "    #YOUR CODE HERE\n",
    "    \n",
    "    m = D.shape[0]\n",
    "    \n",
    "    # Regularized items\n",
    "    garma = 1.0e-4\n",
    "    grad = D.T@(s(D@theta) - Y) / m + garma*theta\n",
    "        \n",
    "    theta_new = theta - lam*grad\n",
    "    \n",
    "    return theta_new\n",
    "\n",
    "theta_new_test = gradient_update(D, theta, Y, 0.05)\n",
    "print(theta_new_test)"
   ]
  },
  {
   "cell_type": "markdown",
   "metadata": {},
   "source": [
    "---\n",
    "\n",
    "**TASK 1.5:** Complete the function $predict(d, \\theta) = s(d\\theta) = y$, where $y \\in \\{0, 1\\}^{(p \\times k)}$ and $d \\in \\{0, 1\\}^{(p \\times n)}$ and $1 \\le p \\le m$.\n",
    "\n",
    "Note, every element of the output must be an integer.\n",
    "\n",
    "---"
   ]
  },
  {
   "cell_type": "code",
   "execution_count": 6,
   "metadata": {},
   "outputs": [
    {
     "name": "stdout",
     "output_type": "stream",
     "text": [
      "[[1 1 1 1]\n",
      " [1 1 1 1]\n",
      " [1 1 1 1]\n",
      " [1 1 1 1]\n",
      " [1 1 1 1]\n",
      " [1 1 1 1]\n",
      " [1 1 1 1]]\n"
     ]
    }
   ],
   "source": [
    "def predict(d, theta):\n",
    "    y = None\n",
    "    #YOUR CODE HERE\n",
    "    \n",
    "    y = s(d@theta)\n",
    "    \n",
    "    return np.round(y).astype(int)\n",
    "\n",
    "print(predict(D[0:7, :], theta))"
   ]
  },
  {
   "cell_type": "markdown",
   "metadata": {},
   "source": [
    "---\n",
    "\n",
    "**TASK 1.6:** Complete the function $gradient\\_descent(D, Y, lam, iterations) = \\theta$, which  uses the functions above to find $\\theta$ such that $predict(D, \\theta) = Y$.\n",
    "\n",
    "As in assignment 4, record the loss at each iteration and store the values in the array $losses$.\n",
    "\n",
    "You need to make sure your loss decreases in monotone downward trajectory. If it increases at any point, something has gone wrong.\n",
    "\n",
    "You will be assessed on whether, overall, you've succeeded in implementing logistic regression (not just the gradient descent algorithm, which you've done before in any case).\n",
    "\n",
    "**HINT:** \n",
    "- Remember, at the start of this assignment we said you could re-use your code from previous assignments.\n",
    "- Also, it's impossible to get zero error. You need to just minimise the error.\n",
    "\n",
    "---"
   ]
  },
  {
   "cell_type": "code",
   "execution_count": 7,
   "metadata": {
    "scrolled": false
   },
   "outputs": [
    {
     "data": {
      "image/png": "[encoded data removed]",
      "text/plain": [
       "<Figure size 432x288 with 1 Axes>"
      ]
     },
     "metadata": {
      "needs_background": "light"
     },
     "output_type": "display_data"
    },
    {
     "name": "stdout",
     "output_type": "stream",
     "text": [
      "[[ 0.74260445  0.9623096  -0.21122392 -0.23234891]\n",
      " [ 0.38476392 -0.7544361   0.35760878  0.06318174]\n",
      " [-0.19692973 -0.04161106  0.34384289  0.19162238]\n",
      " [-0.12360463 -0.14167045 -0.2897868   0.03545272]\n",
      " [-0.16870563 -0.23538782 -0.2508148  -0.04113572]\n",
      " [-0.3409293  -0.00559352 -0.25000796 -0.31181895]\n",
      " [-0.02555657  0.01637888 -0.2130226  -0.21181654]\n",
      " [-0.00765487 -0.32475031 -0.26203803 -0.36709476]]\n"
     ]
    }
   ],
   "source": [
    "def gradient_descent(D, Y, lam, iterations):\n",
    "    theta = initialise(D, Y)\n",
    "    losses = np.zeros((iterations))\n",
    "    #YOUR CODE HERE\n",
    "    for i in range(iterations):\n",
    "        l = loss(D, theta, Y)\n",
    "        losses[i] = l\n",
    "        \n",
    "        theta = gradient_update(D, theta, Y, lam)\n",
    "    \n",
    "    return theta, losses\n",
    "\n",
    "lam = 0.3 #Learning rate\n",
    "iterations = 60 #Number of iterations of gradient descent\n",
    "\n",
    "#For the purposes of doing this assignment, this code isn't really here. Pretend it's engraved in rock.\n",
    "theta, losses = gradient_descent(D, Y, lam, iterations)\n",
    "plt.plot(losses)\n",
    "plt.show()\n",
    "print(theta)"
   ]
  },
  {
   "cell_type": "markdown",
   "metadata": {},
   "source": [
    "PROGRAMMING EXERCISE 2\n",
    "---\n",
    "\n",
    "You might remember the linearly inseparable dataset from the clustering assignment. Below, we're re-using it (see D2_temp, and X which is the final dataset), only now the datapoints all come labelled in the matrix $Z$.\n",
    "\n",
    "You're going to try and predict $Z$ given $X$.\n",
    "\n",
    "Look at how the below data is constructed. It is not only linearly inseparable, but $X$ is composed of thousands of irrelevant variables that have no impact on $Z$."
   ]
  },
  {
   "cell_type": "code",
   "execution_count": 8,
   "metadata": {},
   "outputs": [
    {
     "data": {
      "image/png": "[encoded data removed]",
      "text/plain": [
       "<Figure size 432x288 with 1 Axes>"
      ]
     },
     "metadata": {
      "needs_background": "light"
     },
     "output_type": "display_data"
    },
    {
     "name": "stdout",
     "output_type": "stream",
     "text": [
      "The shape of X is (5000, 11854)\n"
     ]
    }
   ],
   "source": [
    "def gen_D2Y2(m):\n",
    "    D2 = np.random.randn(m, 2)\n",
    "    Y2 = np.zeros((m, 2))\n",
    "    for r in range(D2.shape[0]):\n",
    "        s = np.linalg.norm(D2[r, :])\n",
    "        if s > 1.85:\n",
    "            Y2[r, 0] = 1\n",
    "        elif s < 0.3:\n",
    "            Y2[r, 1] = 1\n",
    "    return D2, Y2\n",
    "m2 = 5000\n",
    "D2_temp, Z = gen_D2Y2(m2)\n",
    "colours = ['g', 'b']\n",
    "\n",
    "def allocator(D2, Z, j):\n",
    "    cluster = []\n",
    "    for i in range(D2.shape[0]):\n",
    "        if Z[i, j]:\n",
    "            cluster.append(D2[i, :])\n",
    "    return np.asarray(cluster)\n",
    "for i in range(2):\n",
    "    cluster = allocator(D2_temp, Z, i)\n",
    "    plt.scatter(cluster[:,0], cluster[:,1], c=colours[i])\n",
    "plt.show()\n",
    "\n",
    "left = np.random.randint(0, 10000)\n",
    "right = np.random.randint(0, 10000)\n",
    "X = np.hstack([np.random.randn(m2, left), D2_temp, np.random.randn(m2, right)])\n",
    "print('The shape of X is', X.shape)"
   ]
  },
  {
   "cell_type": "markdown",
   "metadata": {},
   "source": [
    "---\n",
    "\n",
    "So, as stated above you must predict $Z$ using only the matrix $X$. \n",
    "\n",
    "You can re-use any of your code from previous assignments. \n",
    "\n",
    "You will need to:\n",
    "1. Understand how $X$ and $Z$ are constructed.\n",
    "2. Train at least 1 model to perform prediction.\n",
    "3. Complete the predict function below such that it can predict $Z$.\n",
    "\n",
    "You will likely need to use all of your knowledge from this course. \n",
    "\n",
    "---\n",
    "\n",
    "**TASK 2.1:** Complete the functions below such that $predict\\_Z(X) = Z\\_prediction$.\n",
    "\n",
    "If you succeed at training a model such that $predict\\_Z(X) = Z\\_prediction$, and the distance between $Z$ and $Z\\_predicton$ is minimised, you will get the marks. \n",
    "\n",
    "You cannot use the variables D2_temp, left, or right. You must predict $Z$ using $X$ by training a model on $X$ and $Z$. \n",
    "\n",
    "You can train any models you wish, or create any additional functions you wish. \n",
    "\n",
    "Unlike every other question in this course, you are also now allowed to use any of the library functions in numpy and, if you wish, scikitlearn.\n",
    "\n",
    "**HINT:**\n",
    "- You can add the parameters your model learns to $predict\\_Z(X)$. No, you cannot add $Z$ as a parameter to $predict\\_Z(X)$.\n",
    "- You can combine models, add dimensions or split the dataset, using your knowledge of how the dataset is constructed.\n",
    "- You can and should re-use any code you've written in previous assignments.\n",
    "- Remember, there are only 2 relevant dimensions of $X$, and these 2 dimensions are hidden somewhere randomly determined.\n",
    "- Depending which models you use, you might need to add an additional dimension to make the data linearly separable (assuming you use something like logistic regression which requires linear separability).\n",
    "- I encourage you to discuss this problem on the forums and with your friends. You must implement your own solution (do not share code), but feel free to share ideas.\n",
    "\n",
    "---\n",
    "\n"
   ]
  },
  {
   "cell_type": "code",
   "execution_count": 9,
   "metadata": {},
   "outputs": [],
   "source": [
    "# # PCA\n",
    "\n",
    "# def preprocess(X):\n",
    "#     m = X.shape[0]\n",
    "#     n = X.shape[1]\n",
    "    \n",
    "#     # Means.\n",
    "#     means = np.mean(X, axis=1)\n",
    "    \n",
    "#     # Abstracting means.\n",
    "#     means_tile = np.tile(means, (n, 1)).T\n",
    "#     biased_X = X - means_tile\n",
    "    \n",
    "#     # Infinity norms.\n",
    "#     norms = np.amax(np.abs(biased_X), axis=1)\n",
    "#     norms[np.argwhere(norms == 0)] = 1    \n",
    "#     norms_tile = np.tile(norms, (n, 1)).T\n",
    "#     stand_X = biased_X / norms_tile\n",
    "    \n",
    "#     return stand_X, means, norms\n",
    "\n",
    "# def eigen_decompose(X):\n",
    "#     # X: (m, n)\n",
    "#     stand_X, means, norms = preprocess(X)\n",
    "    \n",
    "#     # Get eigenvalue diagonal matrix.\n",
    "#     eig_val, eig_vec = np.linalg.eig(stand_X@stand_X.T)    # (m, m)\n",
    "#     D = np.diag(eig_val.real)\n",
    "\n",
    "#     C_norm = np.linalg.norm(eig_vec, axis=0)\n",
    "#     C_norm_tile = np.tile(C_norm.T, (C_norm.shape[0], 1))\n",
    "#     C = eig_vec / C_norm_tile\n",
    "\n",
    "#     return stand_X, means, norms, D, C\n",
    "\n",
    "\n",
    "# def reduce_dim(X, stand_X, k, C, D):\n",
    "    \n",
    "#     # Extract the eigenvalue from matrix D to calculate p.\n",
    "#     one_vec = np.ones(D.shape[0])\n",
    "#     eig_val = D@one_vec\n",
    "#     p = np.sum(eig_val[:k]) / np.sum(eig_val)\n",
    "#     print(eig_val)\n",
    "\n",
    "#     # Get the basis matrix B.\n",
    "#     C_k = np.zeros_like(C)\n",
    "#     C_k[:, :k] = C[:, :k]\n",
    "#     B_k = stand_X.T@C_k\n",
    "#     compressed_X = stand_X@B_k\n",
    "    \n",
    "#     return compressed_X, p\n",
    "\n",
    "# # stand_X, means, norms = preprocess(X)\n",
    "# # print(stand_X.shape)\n",
    "# # print(means.shape)\n",
    "# # print(norms.shape)\n",
    "# stand_X, means, norms, D, C = eigen_decompose(X)\n",
    "\n",
    "# k = 2\n",
    "# compressed_X, p = reduce_dim(X, stand_X, k, C, D)\n",
    "# print('Variance Captured:', int(p * 100), '%')\n",
    "# print(compressed_X.shape)\n",
    "# print(compressed_X[:5])\n",
    "# print(X[:2])"
   ]
  },
  {
   "cell_type": "code",
   "execution_count": 10,
   "metadata": {},
   "outputs": [],
   "source": [
    "# Logistic regression.\n",
    "\n",
    "def init_params(X, Z):\n",
    "    m = X.shape[0]\n",
    "    n = X.shape[1]\n",
    "    k = Z.shape[1]\n",
    "    \n",
    "    theta = np.random.rand(n, k)\n",
    "    \n",
    "    return theta\n",
    "\n",
    "def sigmoid(a):\n",
    "    return 1.0 / (1.0+np.exp(-a))\n",
    "\n",
    "def loss(X, theta, Z):\n",
    "    m = Z.shape[0]    \n",
    "    sZ = sigmoid(X@theta) # (m, k)\n",
    "    \n",
    "    # Y: (m, k)\n",
    "    loss = np.mean(np.power(sZ-Z, 2), axis=0) / 2\n",
    "    \n",
    "    # Regularized items\n",
    "    garma = 1.0e-4\n",
    "    regularized_item = garma * np.mean(theta*theta, axis=0) / 2 # (k, 1)\n",
    "\n",
    "    loss += regularized_item\n",
    "    l = np.sum(loss)\n",
    "    \n",
    "    return l\n",
    "\n",
    "def gradient_update(X, theta, Z, lam):\n",
    "    theta_new = None\n",
    "    \n",
    "    m = X.shape[0]\n",
    "    \n",
    "    # Regularized items\n",
    "    garma = 1.0e-4\n",
    "    grad = (-Z.T@X + theta.T@X.T@X).T / m + garma*theta\n",
    "        \n",
    "    theta_new = theta - lam*grad\n",
    "    \n",
    "    return theta_new"
   ]
  },
  {
   "cell_type": "code",
   "execution_count": 11,
   "metadata": {},
   "outputs": [],
   "source": [
    "def gradient_descent(X, Z, lam=0.3, iterations=100):\n",
    "    theta = init_params(X, Z)\n",
    "    losses = np.zeros((iterations))\n",
    "\n",
    "    for i in range(iterations):\n",
    "        l = loss(X, theta, Z)\n",
    "        losses[i] = l\n",
    "        \n",
    "        theta = gradient_update(X, theta, Z, lam)\n",
    "    \n",
    "    return theta, losses"
   ]
  },
  {
   "cell_type": "code",
   "execution_count": 12,
   "metadata": {},
   "outputs": [
    {
     "data": {
      "image/png": "[encoded data removed]",
      "text/plain": [
       "<Figure size 432x288 with 1 Axes>"
      ]
     },
     "metadata": {
      "needs_background": "light"
     },
     "output_type": "display_data"
    }
   ],
   "source": [
    "theta, losses = gradient_descent(X, Z)\n",
    "plt.plot(losses)\n",
    "plt.show()"
   ]
  },
  {
   "cell_type": "code",
   "execution_count": 13,
   "metadata": {
    "scrolled": false
   },
   "outputs": [
    {
     "name": "stdout",
     "output_type": "stream",
     "text": [
      "0.02355028052263538\n"
     ]
    }
   ],
   "source": [
    "#CREATE ANY ADDITIONAL FUNCTIONS YOU WISH HERE\n",
    "\n",
    "def predict_Z(X, theta):\n",
    "    Z_prediction = np.zeros((X.shape[0], 2))\n",
    "    #YOUR CODE HERE\n",
    "\n",
    "    Z_prediction = X@theta\n",
    "    \n",
    "    return Z_prediction\n",
    "\n",
    "\n",
    "#Display Code. Leave it alooooooooooone.\n",
    "Z_prediction = predict_Z(X, theta)\n",
    "summed_error = np.sum((Z_prediction - Z).T@(Z_prediction - Z))\n",
    "print(summed_error)"
   ]
  },
  {
   "cell_type": "markdown",
   "metadata": {},
   "source": [
    "---"
   ]
  }
 ],
 "metadata": {
  "kernelspec": {
   "display_name": "Python 3",
   "language": "python",
   "name": "python3"
  },
  "language_info": {
   "codemirror_mode": {
    "name": "ipython",
    "version": 3
   },
   "file_extension": ".py",
   "mimetype": "text/x-python",
   "name": "python",
   "nbconvert_exporter": "python",
   "pygments_lexer": "ipython3",
   "version": "3.7.3"
  }
 },
 "nbformat": 4,
 "nbformat_minor": 2
}
